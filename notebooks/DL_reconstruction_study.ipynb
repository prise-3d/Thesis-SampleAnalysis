{
 "cells": [
  {
   "cell_type": "markdown",
   "metadata": {},
   "source": [
    "# Study of Deep Learning approach for synthesis images reconstruction using low sampling"
   ]
  },
  {
   "cell_type": "markdown",
   "metadata": {},
   "source": [
    "## Explanation\n",
    "\n",
    "Image synthesis reconstruction and denoising post-processing tasks are currently used in order to enhance the rendering and decrease the computation cost of the renderer. In first time we used statistical models to see if it's possible to approximate the final mean of pixels of image rendered using only few samples as input. After that, we used deep learning approach, more precisely deep neural network with 5 layers. It seems deep learning approach has better results than others models and modelise as well as possible the expected mean of each pixel of such rendering.\n",
    "\n",
    "This document therefore presents all the work carried out in this direction and the results that have been found."
   ]
  },
  {
   "cell_type": "markdown",
   "metadata": {},
   "source": [
    "## Biliography\n",
    "\n",
    "keywork : 'Low sampling'\n",
    "\n",
    "- Deep Adaptive Sampling for Low Sample Count Rendering (2018)\n",
    "\n",
    "**Note :** *to enhance*"
   ]
  },
  {
   "cell_type": "markdown",
   "metadata": {},
   "source": [
    "## Database\n",
    "\n",
    "The database is composed of few scenes :\n",
    "- Exterieur01\n",
    "- Boulanger\n",
    "- CornellBoxNonVide\n",
    "- CornellBoxNonVideTextureArcade\n",
    "- CornellBoxVide\n",
    "- Bar1\n",
    "- CornellBoxNonVideTextureDegrade\n",
    "- CornellBoxNonVideTextureDamier\n",
    "- CornellBoxVideTextureDamier\n",
    "- CornellBoxNonVide\n",
    "- Sponza1\n",
    "- Bureau1_cam2\n",
    "\n",
    "Each scene renderer is an image of 512x512 pixels. The whole database keep information of each sample value for each pixel from 1 to 1000 (maximum number of samples)."
   ]
  },
  {
   "cell_type": "markdown",
   "metadata": {},
   "source": [
    "## Parameters "
   ]
  },
  {
   "cell_type": "markdown",
   "metadata": {},
   "source": [
    "We set 3 parameters :\n",
    "- **n** : the number of samples kept as input (1 to *n*) of the model\n",
    "- **column** : each column of pixels to keep of images to create new dataset (if *column = 2* we keep only 1 column out of 2 columns)\n",
    "- **row** : each row of pixels to keep of images to create new dataset\n",
    "\n",
    "For the presented tests, the scene *Sponza1* is excluded from the training, validation and testing datasets and only used to compare the reconstruction performance applied on it.\n",
    "\n",
    "In order to compare each models and select the best one, we used the coefficient of determination (R squared) which is the proportion of the variance in the dependent variable that is predictable from the independent variable(s).\n",
    "\n",
    "**Question :** the coefficient of determintation is really the best metric to compare models ?"
   ]
  },
  {
   "cell_type": "markdown",
   "metadata": {},
   "source": [
    "## Statistical models"
   ]
  },
  {
   "cell_type": "markdown",
   "metadata": {},
   "source": [
    "3 statistical models have been tested to approximate the continuous expected variable (the final mean of the pixel) :\n",
    "\n",
    "- Stochastic Gradient Descent\n",
    "- Support Vector Regression (SVR) with rbf kernel\n",
    "- Ridge Regression"
   ]
  },
  {
   "cell_type": "code",
   "execution_count": null,
   "metadata": {},
   "outputs": [],
   "source": []
  }
 ],
 "metadata": {
  "kernelspec": {
   "display_name": "thesis-venv",
   "language": "python",
   "name": "thesis-venv"
  },
  "language_info": {
   "codemirror_mode": {
    "name": "ipython",
    "version": 3
   },
   "file_extension": ".py",
   "mimetype": "text/x-python",
   "name": "python",
   "nbconvert_exporter": "python",
   "pygments_lexer": "ipython3",
   "version": "3.6.0"
  }
 },
 "nbformat": 4,
 "nbformat_minor": 2
}
